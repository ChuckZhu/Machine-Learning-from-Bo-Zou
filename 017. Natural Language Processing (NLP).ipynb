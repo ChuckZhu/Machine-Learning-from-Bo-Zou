{
 "cells": [
  {
   "cell_type": "code",
   "execution_count": null,
   "metadata": {
    "collapsed": true
   },
   "outputs": [],
   "source": [
    "import numpy as np\n",
    "import pandas as pd\n",
    "from fuzzywuzzy import fuzz\n",
    "from fuzzywuzzy import process"
   ]
  },
  {
   "cell_type": "code",
   "execution_count": null,
   "metadata": {
    "collapsed": true
   },
   "outputs": [],
   "source": [
    "def enum_row(row):\n",
    "    print(row['state'])"
   ]
  },
  {
   "cell_type": "code",
   "execution_count": null,
   "metadata": {
    "collapsed": true
   },
   "outputs": [],
   "source": [
    "def find_state_code(row):\n",
    "    if row['state'] != 0:\n",
    "        print(process.extractOne(row['state'], states, score_cutoff=80))"
   ]
  },
  {
   "cell_type": "code",
   "execution_count": null,
   "metadata": {
    "collapsed": true
   },
   "outputs": [],
   "source": [
    "def capital(str):\n",
    "    return str.capitalize()"
   ]
  },
  {
   "cell_type": "code",
   "execution_count": null,
   "metadata": {
    "collapsed": true
   },
   "outputs": [],
   "source": [
    "def correct_state(row):\n",
    "    if row['state'] != 0:\n",
    "        state = process.extractOne(row['state'], states, score_cutoff=80)\n",
    "        if state:\n",
    "            state_name = state[0]\n",
    "            return ' '.join(map(capital, state_name.split(' ')))\n",
    "    return row['state']"
   ]
  },
  {
   "cell_type": "code",
   "execution_count": null,
   "metadata": {
    "collapsed": true
   },
   "outputs": [],
   "source": [
    "def fill_state_code(row):\n",
    "    if row['state'] != 0:\n",
    "        state = process.extractOne(row['state'], states, score_cutoff=80)\n",
    "        if state:\n",
    "            state_name = state[0]\n",
    "            return state_to_code[state_name]\n",
    "    return ''"
   ]
  },
  {
   "cell_type": "code",
   "execution_count": null,
   "metadata": {},
   "outputs": [],
   "source": [
    "if __name__ == '__main__':\n",
    "    pd.set_option('display.width', 200)\n",
    "    data = pd.read_excel('.\\\\sales.xlsx', sheetname='sheet1', header=0)\n",
    "    print('data.head() = \\n', data.head())\n",
    "    print('data.tail() = \\n', data.tail())\n",
    "    print('data.dtypes = \\n', data.dtypes)\n",
    "    print('data.columns = \\n', data.columns)\n",
    "    for c in data.columns:\n",
    "        print(c)\n",
    "    print()\n",
    "    data['total'] = data['Jan'] + data['Feb'] + data['Mar']\n",
    "    print(data.head())\n",
    "    print(data['Jan'].sum())\n",
    "    print(data['Jan'].min())\n",
    "    print(data['Jan'].max())\n",
    "    print(data['Jan'].mean())\n",
    "\n",
    "    print('=============')\n",
    "    s1 = data[['Jan', 'Feb', 'Mar', 'total']].sum()\n",
    "    print(s1)\n",
    "    s2 = pd.DataFrame(data=s1)\n",
    "    print(s2)\n",
    "    print(s2.T)\n",
    "    print(s2.T.reindex(columns=data.columns))\n",
    "    \n",
    "    s = pd.DataFrame(data=data[['Jan', 'Feb', 'Mar', 'total']].sum()).T\n",
    "    s = s.reindex(columns=data.columns, fill_value=0)\n",
    "    print(s)\n",
    "    data = data.append(s, ignore_index=True)\n",
    "    data = data.rename(index={15:'Total'})\n",
    "    print(data.tail())\n",
    "    \n",
    "    print('==============apply===============')\n",
    "    data.apply(enum_row, axis=1)\n",
    "    state_to_code = {\"VERMONT\": \"VT\", \"GEORGIA\": \"GA\", \"IOWA\": \"IA\", \"Armed Forces Pacific\": \"AP\", \"GUAM\": \"GU\",\n",
    "                     \"KANSAS\": \"KS\", \"FLORIDA\": \"FL\", \"AMERICAN SAMOA\": \"AS\", \"NORTH CAROLINA\": \"NC\", \"HAWAII\": \"HI\",\n",
    "                     \"NEW YORK\": \"NY\", \"CALIFORNIA\": \"CA\", \"ALABAMA\": \"AL\", \"IDAHO\": \"ID\",\n",
    "                     \"FEDERATED STATES OF MICRONESIA\": \"FM\",\n",
    "                     \"Armed Forces Americas\": \"AA\", \"DELAWARE\": \"DE\", \"ALASKA\": \"AK\", \"ILLINOIS\": \"IL\",\n",
    "                     \"Armed Forces Africa\": \"AE\", \"SOUTH DAKOTA\": \"SD\", \"CONNECTICUT\": \"CT\", \"MONTANA\": \"MT\",\n",
    "                     \"MASSACHUSETTS\": \"MA\",\n",
    "                     \"PUERTO RICO\": \"PR\", \"Armed Forces Canada\": \"AE\", \"NEW HAMPSHIRE\": \"NH\", \"MARYLAND\": \"MD\",\n",
    "                     \"NEW MEXICO\": \"NM\",\n",
    "                     \"MISSISSIPPI\": \"MS\", \"TENNESSEE\": \"TN\", \"PALAU\": \"PW\", \"COLORADO\": \"CO\",\n",
    "                     \"Armed Forces Middle East\": \"AE\",\n",
    "                     \"NEW JERSEY\": \"NJ\", \"UTAH\": \"UT\", \"MICHIGAN\": \"MI\", \"WEST VIRGINIA\": \"WV\", \"WASHINGTON\": \"WA\",\n",
    "                     \"MINNESOTA\": \"MN\", \"OREGON\": \"OR\", \"VIRGINIA\": \"VA\", \"VIRGIN ISLANDS\": \"VI\",\n",
    "                     \"MARSHALL ISLANDS\": \"MH\",\n",
    "                     \"WYOMING\": \"WY\", \"OHIO\": \"OH\", \"SOUTH CAROLINA\": \"SC\", \"INDIANA\": \"IN\", \"NEVADA\": \"NV\",\n",
    "                     \"LOUISIANA\": \"LA\",\n",
    "                     \"NORTHERN MARIANA ISLANDS\": \"MP\", \"NEBRASKA\": \"NE\", \"ARIZONA\": \"AZ\", \"WISCONSIN\": \"WI\",\n",
    "                     \"NORTH DAKOTA\": \"ND\",\n",
    "                     \"Armed Forces Europe\": \"AE\", \"PENNSYLVANIA\": \"PA\", \"OKLAHOMA\": \"OK\", \"KENTUCKY\": \"KY\",\n",
    "                     \"RHODE ISLAND\": \"RI\",\n",
    "                     \"DISTRICT OF COLUMBIA\": \"DC\", \"ARKANSAS\": \"AR\", \"MISSOURI\": \"MO\", \"TEXAS\": \"TX\", \"MAINE\": \"ME\"}\n",
    "    states = list(state_to_code.keys())\n",
    "    print(fuzz.ratio('Python Package', 'PythonPackage'))\n",
    "    print(process.extract('Mississippi', states))\n",
    "    print(process.extract('Mississipi', states, limit=1))\n",
    "    print(process.extractOne('Mississipi', states))\n",
    "    data.apply(find_state_code, axis=1)\n",
    "\n",
    "    print('Before Correct State:\\n', data['state'])\n",
    "    data['state'] = data.apply(correct_state, axis=1)\n",
    "    print('After Correct State:\\n', data['state'])\n",
    "    data.insert(5, 'State Code', np.nan)\n",
    "    data['State Code'] = data.apply(fill_state_code, axis=1)\n",
    "    print(data)\n",
    "\n",
    "     # group by\n",
    "    print('==============group by================')\n",
    "    print(data.groupby('State Code'))\n",
    "    print('All Columns:\\n')\n",
    "    print(data.groupby('State Code').sum())\n",
    "    print('Short Columns:\\n')\n",
    "    print(data[['State Code', 'Jan', 'Feb', 'Mar', 'total']].groupby('State Code').sum())\n",
    "\n",
    "    data.to_excel('sales_result.xls', sheet_name='Sheet1', index=False)\n",
    "                         \n",
    "    "
   ]
  },
  {
   "cell_type": "code",
   "execution_count": null,
   "metadata": {
    "collapsed": true
   },
   "outputs": [],
   "source": []
  }
 ],
 "metadata": {
  "kernelspec": {
   "display_name": "Python [conda root]",
   "language": "python",
   "name": "conda-root-py"
  },
  "language_info": {
   "codemirror_mode": {
    "name": "ipython",
    "version": 2
   },
   "file_extension": ".py",
   "mimetype": "text/x-python",
   "name": "python",
   "nbconvert_exporter": "python",
   "pygments_lexer": "ipython2",
   "version": "2.7.14"
  }
 },
 "nbformat": 4,
 "nbformat_minor": 2
}
